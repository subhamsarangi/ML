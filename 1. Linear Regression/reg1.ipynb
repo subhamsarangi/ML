{
 "cells": [
  {
   "cell_type": "markdown",
   "metadata": {},
   "source": [
    "## Linear Regression for Predicting Google Stock Prices"
   ]
  },
  {
   "cell_type": "code",
   "execution_count": 563,
   "metadata": {},
   "outputs": [],
   "source": [
    "import pandas as pd\n",
    "import math, datetime\n",
    "import numpy as np\n",
    "import matplotlib.pyplot as plt\n",
    "%matplotlib inline\n",
    "from matplotlib import style\n",
    "style.use('ggplot')"
   ]
  },
  {
   "cell_type": "code",
   "execution_count": 564,
   "metadata": {
    "collapsed": true
   },
   "outputs": [],
   "source": [
    "import quandl\n",
    "quandl.ApiConfig.api_key=\"bsZzMiC7v9JnsD46JhM3\"\n",
    "df = quandl.get('WIKI/GOOGL')"
   ]
  },
  {
   "cell_type": "code",
   "execution_count": 565,
   "metadata": {},
   "outputs": [
    {
     "data": {
      "text/html": [
       "<div>\n",
       "<style>\n",
       "    .dataframe thead tr:only-child th {\n",
       "        text-align: right;\n",
       "    }\n",
       "\n",
       "    .dataframe thead th {\n",
       "        text-align: left;\n",
       "    }\n",
       "\n",
       "    .dataframe tbody tr th {\n",
       "        vertical-align: top;\n",
       "    }\n",
       "</style>\n",
       "<table border=\"1\" class=\"dataframe\">\n",
       "  <thead>\n",
       "    <tr style=\"text-align: right;\">\n",
       "      <th></th>\n",
       "      <th>Open</th>\n",
       "      <th>High</th>\n",
       "      <th>Low</th>\n",
       "      <th>Close</th>\n",
       "      <th>Volume</th>\n",
       "      <th>Ex-Dividend</th>\n",
       "      <th>Split Ratio</th>\n",
       "      <th>Adj. Open</th>\n",
       "      <th>Adj. High</th>\n",
       "      <th>Adj. Low</th>\n",
       "      <th>Adj. Close</th>\n",
       "      <th>Adj. Volume</th>\n",
       "    </tr>\n",
       "    <tr>\n",
       "      <th>Date</th>\n",
       "      <th></th>\n",
       "      <th></th>\n",
       "      <th></th>\n",
       "      <th></th>\n",
       "      <th></th>\n",
       "      <th></th>\n",
       "      <th></th>\n",
       "      <th></th>\n",
       "      <th></th>\n",
       "      <th></th>\n",
       "      <th></th>\n",
       "      <th></th>\n",
       "    </tr>\n",
       "  </thead>\n",
       "  <tbody>\n",
       "    <tr>\n",
       "      <th>2017-10-20</th>\n",
       "      <td>1007.05</td>\n",
       "      <td>1008.65</td>\n",
       "      <td>1002.270</td>\n",
       "      <td>1005.07</td>\n",
       "      <td>1568454.0</td>\n",
       "      <td>0.0</td>\n",
       "      <td>1.0</td>\n",
       "      <td>1007.05</td>\n",
       "      <td>1008.65</td>\n",
       "      <td>1002.270</td>\n",
       "      <td>1005.07</td>\n",
       "      <td>1568454.0</td>\n",
       "    </tr>\n",
       "    <tr>\n",
       "      <th>2017-10-23</th>\n",
       "      <td>1005.18</td>\n",
       "      <td>1005.79</td>\n",
       "      <td>983.100</td>\n",
       "      <td>985.54</td>\n",
       "      <td>1623580.0</td>\n",
       "      <td>0.0</td>\n",
       "      <td>1.0</td>\n",
       "      <td>1005.18</td>\n",
       "      <td>1005.79</td>\n",
       "      <td>983.100</td>\n",
       "      <td>985.54</td>\n",
       "      <td>1623580.0</td>\n",
       "    </tr>\n",
       "    <tr>\n",
       "      <th>2017-10-24</th>\n",
       "      <td>986.50</td>\n",
       "      <td>989.26</td>\n",
       "      <td>977.080</td>\n",
       "      <td>988.49</td>\n",
       "      <td>1416283.0</td>\n",
       "      <td>0.0</td>\n",
       "      <td>1.0</td>\n",
       "      <td>986.50</td>\n",
       "      <td>989.26</td>\n",
       "      <td>977.080</td>\n",
       "      <td>988.49</td>\n",
       "      <td>1416283.0</td>\n",
       "    </tr>\n",
       "    <tr>\n",
       "      <th>2017-10-25</th>\n",
       "      <td>986.27</td>\n",
       "      <td>994.43</td>\n",
       "      <td>977.722</td>\n",
       "      <td>991.46</td>\n",
       "      <td>1368042.0</td>\n",
       "      <td>0.0</td>\n",
       "      <td>1.0</td>\n",
       "      <td>986.27</td>\n",
       "      <td>994.43</td>\n",
       "      <td>977.722</td>\n",
       "      <td>991.46</td>\n",
       "      <td>1368042.0</td>\n",
       "    </tr>\n",
       "    <tr>\n",
       "      <th>2017-10-26</th>\n",
       "      <td>998.47</td>\n",
       "      <td>1006.51</td>\n",
       "      <td>990.470</td>\n",
       "      <td>991.42</td>\n",
       "      <td>1827682.0</td>\n",
       "      <td>0.0</td>\n",
       "      <td>1.0</td>\n",
       "      <td>998.47</td>\n",
       "      <td>1006.51</td>\n",
       "      <td>990.470</td>\n",
       "      <td>991.42</td>\n",
       "      <td>1827682.0</td>\n",
       "    </tr>\n",
       "  </tbody>\n",
       "</table>\n",
       "</div>"
      ],
      "text/plain": [
       "               Open     High       Low    Close     Volume  Ex-Dividend  \\\n",
       "Date                                                                      \n",
       "2017-10-20  1007.05  1008.65  1002.270  1005.07  1568454.0          0.0   \n",
       "2017-10-23  1005.18  1005.79   983.100   985.54  1623580.0          0.0   \n",
       "2017-10-24   986.50   989.26   977.080   988.49  1416283.0          0.0   \n",
       "2017-10-25   986.27   994.43   977.722   991.46  1368042.0          0.0   \n",
       "2017-10-26   998.47  1006.51   990.470   991.42  1827682.0          0.0   \n",
       "\n",
       "            Split Ratio  Adj. Open  Adj. High  Adj. Low  Adj. Close  \\\n",
       "Date                                                                  \n",
       "2017-10-20          1.0    1007.05    1008.65  1002.270     1005.07   \n",
       "2017-10-23          1.0    1005.18    1005.79   983.100      985.54   \n",
       "2017-10-24          1.0     986.50     989.26   977.080      988.49   \n",
       "2017-10-25          1.0     986.27     994.43   977.722      991.46   \n",
       "2017-10-26          1.0     998.47    1006.51   990.470      991.42   \n",
       "\n",
       "            Adj. Volume  \n",
       "Date                     \n",
       "2017-10-20    1568454.0  \n",
       "2017-10-23    1623580.0  \n",
       "2017-10-24    1416283.0  \n",
       "2017-10-25    1368042.0  \n",
       "2017-10-26    1827682.0  "
      ]
     },
     "execution_count": 565,
     "metadata": {},
     "output_type": "execute_result"
    }
   ],
   "source": [
    "df.tail()"
   ]
  },
  {
   "cell_type": "code",
   "execution_count": 566,
   "metadata": {},
   "outputs": [],
   "source": [
    "df['HL_PCT'] = (df['Adj. High'] - df['Adj. Close']) / df['Adj. Close'] * 100\n",
    "df['PCT_change'] = (df['Adj. Close'] - df['Adj. Open']) / df['Adj. Open'] * 100"
   ]
  },
  {
   "cell_type": "code",
   "execution_count": 567,
   "metadata": {},
   "outputs": [
    {
     "data": {
      "text/html": [
       "<div>\n",
       "<style>\n",
       "    .dataframe thead tr:only-child th {\n",
       "        text-align: right;\n",
       "    }\n",
       "\n",
       "    .dataframe thead th {\n",
       "        text-align: left;\n",
       "    }\n",
       "\n",
       "    .dataframe tbody tr th {\n",
       "        vertical-align: top;\n",
       "    }\n",
       "</style>\n",
       "<table border=\"1\" class=\"dataframe\">\n",
       "  <thead>\n",
       "    <tr style=\"text-align: right;\">\n",
       "      <th></th>\n",
       "      <th>Adj. Close</th>\n",
       "      <th>HL_PCT</th>\n",
       "      <th>PCT_change</th>\n",
       "      <th>Adj. Volume</th>\n",
       "    </tr>\n",
       "    <tr>\n",
       "      <th>Date</th>\n",
       "      <th></th>\n",
       "      <th></th>\n",
       "      <th></th>\n",
       "      <th></th>\n",
       "    </tr>\n",
       "  </thead>\n",
       "  <tbody>\n",
       "    <tr>\n",
       "      <th>2017-10-20</th>\n",
       "      <td>1005.07</td>\n",
       "      <td>0.356194</td>\n",
       "      <td>-0.196614</td>\n",
       "      <td>1568454.0</td>\n",
       "    </tr>\n",
       "    <tr>\n",
       "      <th>2017-10-23</th>\n",
       "      <td>985.54</td>\n",
       "      <td>2.054711</td>\n",
       "      <td>-1.953879</td>\n",
       "      <td>1623580.0</td>\n",
       "    </tr>\n",
       "    <tr>\n",
       "      <th>2017-10-24</th>\n",
       "      <td>988.49</td>\n",
       "      <td>0.077897</td>\n",
       "      <td>0.201723</td>\n",
       "      <td>1416283.0</td>\n",
       "    </tr>\n",
       "    <tr>\n",
       "      <th>2017-10-25</th>\n",
       "      <td>991.46</td>\n",
       "      <td>0.299558</td>\n",
       "      <td>0.526225</td>\n",
       "      <td>1368042.0</td>\n",
       "    </tr>\n",
       "    <tr>\n",
       "      <th>2017-10-26</th>\n",
       "      <td>991.42</td>\n",
       "      <td>1.522059</td>\n",
       "      <td>-0.706080</td>\n",
       "      <td>1827682.0</td>\n",
       "    </tr>\n",
       "  </tbody>\n",
       "</table>\n",
       "</div>"
      ],
      "text/plain": [
       "            Adj. Close    HL_PCT  PCT_change  Adj. Volume\n",
       "Date                                                     \n",
       "2017-10-20     1005.07  0.356194   -0.196614    1568454.0\n",
       "2017-10-23      985.54  2.054711   -1.953879    1623580.0\n",
       "2017-10-24      988.49  0.077897    0.201723    1416283.0\n",
       "2017-10-25      991.46  0.299558    0.526225    1368042.0\n",
       "2017-10-26      991.42  1.522059   -0.706080    1827682.0"
      ]
     },
     "execution_count": 567,
     "metadata": {},
     "output_type": "execute_result"
    }
   ],
   "source": [
    "df = df[['Adj. Close', 'HL_PCT', 'PCT_change','Adj. Volume']]\n",
    "df.tail()"
   ]
  },
  {
   "cell_type": "code",
   "execution_count": 568,
   "metadata": {
    "collapsed": true
   },
   "outputs": [],
   "source": [
    "forecast_col='Adj. Close' "
   ]
  },
  {
   "cell_type": "code",
   "execution_count": 569,
   "metadata": {},
   "outputs": [],
   "source": [
    "df.fillna(-99999, inplace=True)"
   ]
  },
  {
   "cell_type": "code",
   "execution_count": 570,
   "metadata": {},
   "outputs": [
    {
     "data": {
      "text/plain": [
       "34"
      ]
     },
     "execution_count": 570,
     "metadata": {},
     "output_type": "execute_result"
    }
   ],
   "source": [
    "forecast_out= int(math.ceil(0.01*len(df))) # 1% of the DataFrame\n",
    "forecast_out"
   ]
  },
  {
   "cell_type": "code",
   "execution_count": 571,
   "metadata": {
    "collapsed": true
   },
   "outputs": [],
   "source": [
    "df['label']=df[forecast_col].shift(-forecast_out)\n",
    "# this way the label column for each row will be...\n",
    "# ... the adjusted price of 100 days into the future"
   ]
  },
  {
   "cell_type": "code",
   "execution_count": 572,
   "metadata": {},
   "outputs": [
    {
     "data": {
      "text/html": [
       "<div>\n",
       "<style>\n",
       "    .dataframe thead tr:only-child th {\n",
       "        text-align: right;\n",
       "    }\n",
       "\n",
       "    .dataframe thead th {\n",
       "        text-align: left;\n",
       "    }\n",
       "\n",
       "    .dataframe tbody tr th {\n",
       "        vertical-align: top;\n",
       "    }\n",
       "</style>\n",
       "<table border=\"1\" class=\"dataframe\">\n",
       "  <thead>\n",
       "    <tr style=\"text-align: right;\">\n",
       "      <th></th>\n",
       "      <th>Adj. Close</th>\n",
       "      <th>HL_PCT</th>\n",
       "      <th>PCT_change</th>\n",
       "      <th>Adj. Volume</th>\n",
       "      <th>label</th>\n",
       "    </tr>\n",
       "    <tr>\n",
       "      <th>Date</th>\n",
       "      <th></th>\n",
       "      <th></th>\n",
       "      <th></th>\n",
       "      <th></th>\n",
       "      <th></th>\n",
       "    </tr>\n",
       "  </thead>\n",
       "  <tbody>\n",
       "    <tr>\n",
       "      <th>2004-08-19</th>\n",
       "      <td>50.322842</td>\n",
       "      <td>3.712563</td>\n",
       "      <td>0.324968</td>\n",
       "      <td>44659000.0</td>\n",
       "      <td>69.639972</td>\n",
       "    </tr>\n",
       "    <tr>\n",
       "      <th>2004-08-20</th>\n",
       "      <td>54.322689</td>\n",
       "      <td>0.710922</td>\n",
       "      <td>7.227007</td>\n",
       "      <td>22834300.0</td>\n",
       "      <td>69.078238</td>\n",
       "    </tr>\n",
       "    <tr>\n",
       "      <th>2004-08-23</th>\n",
       "      <td>54.869377</td>\n",
       "      <td>3.729433</td>\n",
       "      <td>-1.227880</td>\n",
       "      <td>18256100.0</td>\n",
       "      <td>67.839414</td>\n",
       "    </tr>\n",
       "    <tr>\n",
       "      <th>2004-08-24</th>\n",
       "      <td>52.597363</td>\n",
       "      <td>6.417469</td>\n",
       "      <td>-5.726357</td>\n",
       "      <td>15247300.0</td>\n",
       "      <td>68.912727</td>\n",
       "    </tr>\n",
       "    <tr>\n",
       "      <th>2004-08-25</th>\n",
       "      <td>53.164113</td>\n",
       "      <td>1.886792</td>\n",
       "      <td>1.183658</td>\n",
       "      <td>9188600.0</td>\n",
       "      <td>70.668146</td>\n",
       "    </tr>\n",
       "    <tr>\n",
       "      <th>2004-08-26</th>\n",
       "      <td>54.122070</td>\n",
       "      <td>0.037068</td>\n",
       "      <td>2.820391</td>\n",
       "      <td>7094800.0</td>\n",
       "      <td>71.219849</td>\n",
       "    </tr>\n",
       "    <tr>\n",
       "      <th>2004-08-27</th>\n",
       "      <td>53.239345</td>\n",
       "      <td>2.326896</td>\n",
       "      <td>-1.803885</td>\n",
       "      <td>6211700.0</td>\n",
       "      <td>72.278116</td>\n",
       "    </tr>\n",
       "    <tr>\n",
       "      <th>2004-08-30</th>\n",
       "      <td>51.162935</td>\n",
       "      <td>3.411430</td>\n",
       "      <td>-3.106003</td>\n",
       "      <td>5196700.0</td>\n",
       "      <td>74.810934</td>\n",
       "    </tr>\n",
       "    <tr>\n",
       "      <th>2004-08-31</th>\n",
       "      <td>51.343492</td>\n",
       "      <td>1.308977</td>\n",
       "      <td>0.048866</td>\n",
       "      <td>4917800.0</td>\n",
       "      <td>74.199045</td>\n",
       "    </tr>\n",
       "    <tr>\n",
       "      <th>2004-09-01</th>\n",
       "      <td>50.280210</td>\n",
       "      <td>2.713217</td>\n",
       "      <td>-2.385589</td>\n",
       "      <td>9138200.0</td>\n",
       "      <td>70.462511</td>\n",
       "    </tr>\n",
       "  </tbody>\n",
       "</table>\n",
       "</div>"
      ],
      "text/plain": [
       "            Adj. Close    HL_PCT  PCT_change  Adj. Volume      label\n",
       "Date                                                                \n",
       "2004-08-19   50.322842  3.712563    0.324968   44659000.0  69.639972\n",
       "2004-08-20   54.322689  0.710922    7.227007   22834300.0  69.078238\n",
       "2004-08-23   54.869377  3.729433   -1.227880   18256100.0  67.839414\n",
       "2004-08-24   52.597363  6.417469   -5.726357   15247300.0  68.912727\n",
       "2004-08-25   53.164113  1.886792    1.183658    9188600.0  70.668146\n",
       "2004-08-26   54.122070  0.037068    2.820391    7094800.0  71.219849\n",
       "2004-08-27   53.239345  2.326896   -1.803885    6211700.0  72.278116\n",
       "2004-08-30   51.162935  3.411430   -3.106003    5196700.0  74.810934\n",
       "2004-08-31   51.343492  1.308977    0.048866    4917800.0  74.199045\n",
       "2004-09-01   50.280210  2.713217   -2.385589    9138200.0  70.462511"
      ]
     },
     "execution_count": 572,
     "metadata": {},
     "output_type": "execute_result"
    }
   ],
   "source": [
    "df.head(10)"
   ]
  },
  {
   "cell_type": "code",
   "execution_count": 573,
   "metadata": {
    "collapsed": true
   },
   "outputs": [],
   "source": [
    "from sklearn import preprocessing,model_selection, svm\n",
    "from sklearn.linear_model import LinearRegression"
   ]
  },
  {
   "cell_type": "code",
   "execution_count": 574,
   "metadata": {},
   "outputs": [
    {
     "data": {
      "text/plain": [
       "array([[  5.03228418e+01,   3.71256291e+00,   3.24967503e-01,\n",
       "          4.46590000e+07],\n",
       "       [  5.43226889e+01,   7.10922353e-01,   7.22700723e+00,\n",
       "          2.28343000e+07],\n",
       "       [  5.48693765e+01,   3.72943327e+00,  -1.22788010e+00,\n",
       "          1.82561000e+07],\n",
       "       ..., \n",
       "       [  9.88490000e+02,   7.78965897e-02,   2.01723264e-01,\n",
       "          1.41628300e+06],\n",
       "       [  9.91460000e+02,   2.99558227e-01,   5.26225070e-01,\n",
       "          1.36804200e+06],\n",
       "       [  9.91420000e+02,   1.52205927e+00,  -7.06080303e-01,\n",
       "          1.82768200e+06]])"
      ]
     },
     "execution_count": 574,
     "metadata": {},
     "output_type": "execute_result"
    }
   ],
   "source": [
    "X = np.array(df.drop(['label'],1)) #features\n",
    "X"
   ]
  },
  {
   "cell_type": "markdown",
   "metadata": {},
   "source": [
    "## Preprocessing Data\n",
    "`sklearn.preprocessing` package provides several common utility functions and transformer classes to change raw feature vectors into a representation that is more suitable for the downstream estimators.\n",
    "\n",
    "*Standardization of datasets* is a common requirement for many machine learning estimators implemented in scikit-learn; they might behave badly if the individual features do not more or less look like standard normally distributed data: *Gaussian with zero mean and unit variance.*\n",
    "\n",
    "In practice we often ignore the shape of the distribution and just transform the data to center it by removing the mean value of each feature, then scale it by dividing non-constant features by their standard deviation."
   ]
  },
  {
   "cell_type": "code",
   "execution_count": 575,
   "metadata": {},
   "outputs": [
    {
     "data": {
      "text/plain": [
       "array([[-1.45540979,  2.33204746,  0.23146157,  4.41463645],\n",
       "       [-1.4381851 , -0.3140794 ,  4.80926826,  1.78627076],\n",
       "       [-1.43583088,  2.3469197 , -0.79847109,  1.23491456],\n",
       "       ..., \n",
       "       [ 2.58465415, -0.87212972,  0.14971931, -0.79311777],\n",
       "       [ 2.59744397, -0.67672165,  0.36494649, -0.79892747],\n",
       "       [ 2.59727172,  0.40098662, -0.4523852 , -0.74357267]])"
      ]
     },
     "execution_count": 575,
     "metadata": {},
     "output_type": "execute_result"
    }
   ],
   "source": [
    "X = preprocessing.scale(X) \n",
    "# Standardize a dataset along any axis.\n",
    "# Center to the mean and component wise scale to unit variance.\n",
    "X"
   ]
  },
  {
   "cell_type": "code",
   "execution_count": 576,
   "metadata": {
    "collapsed": true
   },
   "outputs": [],
   "source": [
    "X, X_lately = X[:-forecast_out], X[-forecast_out:]\n",
    "df.dropna(inplace=True)"
   ]
  },
  {
   "cell_type": "code",
   "execution_count": 577,
   "metadata": {},
   "outputs": [
    {
     "data": {
      "text/plain": [
       "array([  69.63997192,   69.0782379 ,   67.83941377, ...,  988.49      ,\n",
       "        991.46      ,  991.42      ])"
      ]
     },
     "execution_count": 577,
     "metadata": {},
     "output_type": "execute_result"
    }
   ],
   "source": [
    "y = np.array(df['label']) # label\n",
    "y"
   ]
  },
  {
   "cell_type": "code",
   "execution_count": 578,
   "metadata": {},
   "outputs": [
    {
     "data": {
      "text/plain": [
       "(3288, 3288)"
      ]
     },
     "execution_count": 578,
     "metadata": {},
     "output_type": "execute_result"
    }
   ],
   "source": [
    "len(X),len(y)"
   ]
  },
  {
   "cell_type": "markdown",
   "metadata": {},
   "source": [
    "#### Splitting the Dataset"
   ]
  },
  {
   "cell_type": "code",
   "execution_count": 579,
   "metadata": {
    "collapsed": true
   },
   "outputs": [],
   "source": [
    "X_train, X_test, y_train, y_test = model_selection.train_test_split(X,y,test_size=0.2)"
   ]
  },
  {
   "cell_type": "markdown",
   "metadata": {},
   "source": [
    "#### Training the data"
   ]
  },
  {
   "cell_type": "code",
   "execution_count": 580,
   "metadata": {},
   "outputs": [
    {
     "data": {
      "text/plain": [
       "LinearRegression(copy_X=True, fit_intercept=True, n_jobs=-1, normalize=False)"
      ]
     },
     "execution_count": 580,
     "metadata": {},
     "output_type": "execute_result"
    }
   ],
   "source": [
    "clf = LinearRegression(n_jobs=-1)\n",
    "clf.fit(X_train, y_train) # fit is synonymous with train"
   ]
  },
  {
   "cell_type": "markdown",
   "metadata": {},
   "source": [
    "***Let's Test it***"
   ]
  },
  {
   "cell_type": "code",
   "execution_count": 581,
   "metadata": {},
   "outputs": [
    {
     "data": {
      "text/plain": [
       "0.97218719613981119"
      ]
     },
     "execution_count": 581,
     "metadata": {},
     "output_type": "execute_result"
    }
   ],
   "source": [
    "accuracy= clf.score(X_test,y_test) # score is synonymous with test\n",
    "accuracy"
   ]
  },
  {
   "cell_type": "code",
   "execution_count": 582,
   "metadata": {},
   "outputs": [
    {
     "data": {
      "text/plain": [
       "<matplotlib.collections.PathCollection at 0x17e26070>"
      ]
     },
     "execution_count": 582,
     "metadata": {},
     "output_type": "execute_result"
    },
    {
     "data": {
      "image/png": "[encoded data removed]",
      "text/plain": [
       "<matplotlib.figure.Figure at 0x15a3f3b0>"
      ]
     },
     "metadata": {},
     "output_type": "display_data"
    }
   ],
   "source": [
    "y_pred = clf.predict(X_test)\n",
    "plt.scatter(y_test,y_pred,color='#00ab6b')"
   ]
  },
  {
   "cell_type": "markdown",
   "metadata": {},
   "source": [
    "### Let's Forecast some data"
   ]
  },
  {
   "cell_type": "code",
   "execution_count": 583,
   "metadata": {},
   "outputs": [
    {
     "data": {
      "text/html": [
       "<div>\n",
       "<style>\n",
       "    .dataframe thead tr:only-child th {\n",
       "        text-align: right;\n",
       "    }\n",
       "\n",
       "    .dataframe thead th {\n",
       "        text-align: left;\n",
       "    }\n",
       "\n",
       "    .dataframe tbody tr th {\n",
       "        vertical-align: top;\n",
       "    }\n",
       "</style>\n",
       "<table border=\"1\" class=\"dataframe\">\n",
       "  <thead>\n",
       "    <tr style=\"text-align: right;\">\n",
       "      <th></th>\n",
       "      <th>Adj. Close</th>\n",
       "      <th>HL_PCT</th>\n",
       "      <th>PCT_change</th>\n",
       "      <th>Adj. Volume</th>\n",
       "      <th>label</th>\n",
       "    </tr>\n",
       "    <tr>\n",
       "      <th>Date</th>\n",
       "      <th></th>\n",
       "      <th></th>\n",
       "      <th></th>\n",
       "      <th></th>\n",
       "      <th></th>\n",
       "    </tr>\n",
       "  </thead>\n",
       "  <tbody>\n",
       "    <tr>\n",
       "      <th>2017-09-01</th>\n",
       "      <td>951.99</td>\n",
       "      <td>0.665973</td>\n",
       "      <td>-0.572342</td>\n",
       "      <td>1034769.0</td>\n",
       "      <td>1005.07</td>\n",
       "    </tr>\n",
       "    <tr>\n",
       "      <th>2017-09-05</th>\n",
       "      <td>941.48</td>\n",
       "      <td>1.052109</td>\n",
       "      <td>-0.568194</td>\n",
       "      <td>1455058.0</td>\n",
       "      <td>985.54</td>\n",
       "    </tr>\n",
       "    <tr>\n",
       "      <th>2017-09-06</th>\n",
       "      <td>942.02</td>\n",
       "      <td>0.263264</td>\n",
       "      <td>-0.196002</td>\n",
       "      <td>1375952.0</td>\n",
       "      <td>988.49</td>\n",
       "    </tr>\n",
       "    <tr>\n",
       "      <th>2017-09-07</th>\n",
       "      <td>949.89</td>\n",
       "      <td>0.063849</td>\n",
       "      <td>0.597299</td>\n",
       "      <td>1103286.0</td>\n",
       "      <td>991.46</td>\n",
       "    </tr>\n",
       "    <tr>\n",
       "      <th>2017-09-08</th>\n",
       "      <td>941.41</td>\n",
       "      <td>0.986818</td>\n",
       "      <td>-0.872907</td>\n",
       "      <td>996449.0</td>\n",
       "      <td>991.42</td>\n",
       "    </tr>\n",
       "  </tbody>\n",
       "</table>\n",
       "</div>"
      ],
      "text/plain": [
       "            Adj. Close    HL_PCT  PCT_change  Adj. Volume    label\n",
       "Date                                                              \n",
       "2017-09-01      951.99  0.665973   -0.572342    1034769.0  1005.07\n",
       "2017-09-05      941.48  1.052109   -0.568194    1455058.0   985.54\n",
       "2017-09-06      942.02  0.263264   -0.196002    1375952.0   988.49\n",
       "2017-09-07      949.89  0.063849    0.597299    1103286.0   991.46\n",
       "2017-09-08      941.41  0.986818   -0.872907     996449.0   991.42"
      ]
     },
     "execution_count": 583,
     "metadata": {},
     "output_type": "execute_result"
    }
   ],
   "source": [
    "df.tail()"
   ]
  },
  {
   "cell_type": "code",
   "execution_count": 584,
   "metadata": {},
   "outputs": [
    {
     "data": {
      "text/plain": [
       "<matplotlib.legend.Legend at 0x17d61f10>"
      ]
     },
     "execution_count": 584,
     "metadata": {},
     "output_type": "execute_result"
    },
    {
     "data": {
      "image/png": "[encoded data removed]",
      "text/plain": [
       "<matplotlib.figure.Figure at 0x159f7510>"
      ]
     },
     "metadata": {},
     "output_type": "display_data"
    }
   ],
   "source": [
    "df['Forecast'] = np.nan\n",
    "last_date = df.iloc[-1].name # Timestamp('2017-09-08 00:00:00')\n",
    "last_unix = last_date.timestamp() # 1504809000.0\n",
    "one_day = 86400\n",
    "next_unix = last_unix + one_day # 1504895400.0\n",
    "for i in forecast_set:\n",
    "    next_date = datetime.datetime.fromtimestamp(next_unix) # datetime.datetime(2017, 9, 9, 0, 0)\n",
    "    next_unix+=one_day\n",
    "    df.loc[next_date] = [np.nan for _ in range(len(df.columns)-1)]+[i]\n",
    "    \n",
    "fig,ax=plt.subplots(figsize=(14,8))\n",
    "ax.set(ylim=[800,1100],xlabel='Date',ylabel='Price')\n",
    "df=df.tail(200)\n",
    "df['Adj. Close'].plot()\n",
    "df['Forecast'].plot()\n",
    "plt.legend(loc=2)"
   ]
  },
  {
   "cell_type": "markdown",
   "metadata": {},
   "source": [
    "### Let's use another algorithm"
   ]
  },
  {
   "cell_type": "code",
   "execution_count": 561,
   "metadata": {},
   "outputs": [
    {
     "data": {
      "text/plain": [
       "0.66777184697135827"
      ]
     },
     "execution_count": 561,
     "metadata": {},
     "output_type": "execute_result"
    },
    {
     "data": {
      "image/png": "[encoded data removed]",
      "text/plain": [
       "<matplotlib.figure.Figure at 0x12c3e8b0>"
      ]
     },
     "metadata": {},
     "output_type": "display_data"
    }
   ],
   "source": [
    "clf = svm.SVR( kernel='poly' ) # support vector regression\n",
    "clf2.fit( X_train, y_train )\n",
    "y_pred2 = clf2.predict( X_test )\n",
    "plt.scatter( y_test,y_pred2,color='#372d3b' )\n",
    "clf2.score( X_test,y_test )"
   ]
  }
 ],
 "metadata": {
  "kernelspec": {
   "display_name": "Python 3",
   "language": "python",
   "name": "python3"
  },
  "language_info": {
   "codemirror_mode": {
    "name": "ipython",
    "version": 3
   },
   "file_extension": ".py",
   "mimetype": "text/x-python",
   "name": "python",
   "nbconvert_exporter": "python",
   "pygments_lexer": "ipython3",
   "version": "3.5.2"
  }
 },
 "nbformat": 4,
 "nbformat_minor": 2
}
