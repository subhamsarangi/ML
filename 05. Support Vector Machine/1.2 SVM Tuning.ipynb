{
 "cells": [
  {
   "cell_type": "markdown",
   "metadata": {},
   "source": [
    "# SVM GridSearch"
   ]
  },
  {
   "cell_type": "code",
   "execution_count": 1,
   "metadata": {
    "collapsed": true
   },
   "outputs": [],
   "source": [
    "import pandas as pd\n",
    "import numpy as np\n",
    "import seaborn as sns\n",
    "import matplotlib.pyplot as plt\n",
    "%matplotlib inline"
   ]
  },
  {
   "cell_type": "code",
   "execution_count": 2,
   "metadata": {
    "collapsed": true
   },
   "outputs": [],
   "source": [
    "from sklearn.datasets import load_breast_cancer"
   ]
  },
  {
   "cell_type": "code",
   "execution_count": 3,
   "metadata": {
    "collapsed": true
   },
   "outputs": [],
   "source": [
    "cancer = load_breast_cancer()"
   ]
  },
  {
   "cell_type": "markdown",
   "metadata": {},
   "source": [
    "## Explporatory Data Analysis"
   ]
  },
  {
   "cell_type": "code",
   "execution_count": 4,
   "metadata": {},
   "outputs": [
    {
     "data": {
      "text/html": [
       "<div>\n",
       "<style>\n",
       "    .dataframe thead tr:only-child th {\n",
       "        text-align: right;\n",
       "    }\n",
       "\n",
       "    .dataframe thead th {\n",
       "        text-align: left;\n",
       "    }\n",
       "\n",
       "    .dataframe tbody tr th {\n",
       "        vertical-align: top;\n",
       "    }\n",
       "</style>\n",
       "<table border=\"1\" class=\"dataframe\">\n",
       "  <thead>\n",
       "    <tr style=\"text-align: right;\">\n",
       "      <th></th>\n",
       "      <th>mean radius</th>\n",
       "      <th>mean texture</th>\n",
       "      <th>mean perimeter</th>\n",
       "      <th>mean area</th>\n",
       "      <th>mean smoothness</th>\n",
       "      <th>mean compactness</th>\n",
       "      <th>mean concavity</th>\n",
       "      <th>mean concave points</th>\n",
       "      <th>mean symmetry</th>\n",
       "      <th>mean fractal dimension</th>\n",
       "      <th>...</th>\n",
       "      <th>worst radius</th>\n",
       "      <th>worst texture</th>\n",
       "      <th>worst perimeter</th>\n",
       "      <th>worst area</th>\n",
       "      <th>worst smoothness</th>\n",
       "      <th>worst compactness</th>\n",
       "      <th>worst concavity</th>\n",
       "      <th>worst concave points</th>\n",
       "      <th>worst symmetry</th>\n",
       "      <th>worst fractal dimension</th>\n",
       "    </tr>\n",
       "  </thead>\n",
       "  <tbody>\n",
       "    <tr>\n",
       "      <th>0</th>\n",
       "      <td>17.99</td>\n",
       "      <td>10.38</td>\n",
       "      <td>122.80</td>\n",
       "      <td>1001.0</td>\n",
       "      <td>0.11840</td>\n",
       "      <td>0.27760</td>\n",
       "      <td>0.3001</td>\n",
       "      <td>0.14710</td>\n",
       "      <td>0.2419</td>\n",
       "      <td>0.07871</td>\n",
       "      <td>...</td>\n",
       "      <td>25.38</td>\n",
       "      <td>17.33</td>\n",
       "      <td>184.60</td>\n",
       "      <td>2019.0</td>\n",
       "      <td>0.1622</td>\n",
       "      <td>0.6656</td>\n",
       "      <td>0.7119</td>\n",
       "      <td>0.2654</td>\n",
       "      <td>0.4601</td>\n",
       "      <td>0.11890</td>\n",
       "    </tr>\n",
       "    <tr>\n",
       "      <th>1</th>\n",
       "      <td>20.57</td>\n",
       "      <td>17.77</td>\n",
       "      <td>132.90</td>\n",
       "      <td>1326.0</td>\n",
       "      <td>0.08474</td>\n",
       "      <td>0.07864</td>\n",
       "      <td>0.0869</td>\n",
       "      <td>0.07017</td>\n",
       "      <td>0.1812</td>\n",
       "      <td>0.05667</td>\n",
       "      <td>...</td>\n",
       "      <td>24.99</td>\n",
       "      <td>23.41</td>\n",
       "      <td>158.80</td>\n",
       "      <td>1956.0</td>\n",
       "      <td>0.1238</td>\n",
       "      <td>0.1866</td>\n",
       "      <td>0.2416</td>\n",
       "      <td>0.1860</td>\n",
       "      <td>0.2750</td>\n",
       "      <td>0.08902</td>\n",
       "    </tr>\n",
       "    <tr>\n",
       "      <th>2</th>\n",
       "      <td>19.69</td>\n",
       "      <td>21.25</td>\n",
       "      <td>130.00</td>\n",
       "      <td>1203.0</td>\n",
       "      <td>0.10960</td>\n",
       "      <td>0.15990</td>\n",
       "      <td>0.1974</td>\n",
       "      <td>0.12790</td>\n",
       "      <td>0.2069</td>\n",
       "      <td>0.05999</td>\n",
       "      <td>...</td>\n",
       "      <td>23.57</td>\n",
       "      <td>25.53</td>\n",
       "      <td>152.50</td>\n",
       "      <td>1709.0</td>\n",
       "      <td>0.1444</td>\n",
       "      <td>0.4245</td>\n",
       "      <td>0.4504</td>\n",
       "      <td>0.2430</td>\n",
       "      <td>0.3613</td>\n",
       "      <td>0.08758</td>\n",
       "    </tr>\n",
       "    <tr>\n",
       "      <th>3</th>\n",
       "      <td>11.42</td>\n",
       "      <td>20.38</td>\n",
       "      <td>77.58</td>\n",
       "      <td>386.1</td>\n",
       "      <td>0.14250</td>\n",
       "      <td>0.28390</td>\n",
       "      <td>0.2414</td>\n",
       "      <td>0.10520</td>\n",
       "      <td>0.2597</td>\n",
       "      <td>0.09744</td>\n",
       "      <td>...</td>\n",
       "      <td>14.91</td>\n",
       "      <td>26.50</td>\n",
       "      <td>98.87</td>\n",
       "      <td>567.7</td>\n",
       "      <td>0.2098</td>\n",
       "      <td>0.8663</td>\n",
       "      <td>0.6869</td>\n",
       "      <td>0.2575</td>\n",
       "      <td>0.6638</td>\n",
       "      <td>0.17300</td>\n",
       "    </tr>\n",
       "    <tr>\n",
       "      <th>4</th>\n",
       "      <td>20.29</td>\n",
       "      <td>14.34</td>\n",
       "      <td>135.10</td>\n",
       "      <td>1297.0</td>\n",
       "      <td>0.10030</td>\n",
       "      <td>0.13280</td>\n",
       "      <td>0.1980</td>\n",
       "      <td>0.10430</td>\n",
       "      <td>0.1809</td>\n",
       "      <td>0.05883</td>\n",
       "      <td>...</td>\n",
       "      <td>22.54</td>\n",
       "      <td>16.67</td>\n",
       "      <td>152.20</td>\n",
       "      <td>1575.0</td>\n",
       "      <td>0.1374</td>\n",
       "      <td>0.2050</td>\n",
       "      <td>0.4000</td>\n",
       "      <td>0.1625</td>\n",
       "      <td>0.2364</td>\n",
       "      <td>0.07678</td>\n",
       "    </tr>\n",
       "  </tbody>\n",
       "</table>\n",
       "<p>5 rows × 30 columns</p>\n",
       "</div>"
      ],
      "text/plain": [
       "   mean radius  mean texture  mean perimeter  mean area  mean smoothness  \\\n",
       "0        17.99         10.38          122.80     1001.0          0.11840   \n",
       "1        20.57         17.77          132.90     1326.0          0.08474   \n",
       "2        19.69         21.25          130.00     1203.0          0.10960   \n",
       "3        11.42         20.38           77.58      386.1          0.14250   \n",
       "4        20.29         14.34          135.10     1297.0          0.10030   \n",
       "\n",
       "   mean compactness  mean concavity  mean concave points  mean symmetry  \\\n",
       "0           0.27760          0.3001              0.14710         0.2419   \n",
       "1           0.07864          0.0869              0.07017         0.1812   \n",
       "2           0.15990          0.1974              0.12790         0.2069   \n",
       "3           0.28390          0.2414              0.10520         0.2597   \n",
       "4           0.13280          0.1980              0.10430         0.1809   \n",
       "\n",
       "   mean fractal dimension           ...             worst radius  \\\n",
       "0                 0.07871           ...                    25.38   \n",
       "1                 0.05667           ...                    24.99   \n",
       "2                 0.05999           ...                    23.57   \n",
       "3                 0.09744           ...                    14.91   \n",
       "4                 0.05883           ...                    22.54   \n",
       "\n",
       "   worst texture  worst perimeter  worst area  worst smoothness  \\\n",
       "0          17.33           184.60      2019.0            0.1622   \n",
       "1          23.41           158.80      1956.0            0.1238   \n",
       "2          25.53           152.50      1709.0            0.1444   \n",
       "3          26.50            98.87       567.7            0.2098   \n",
       "4          16.67           152.20      1575.0            0.1374   \n",
       "\n",
       "   worst compactness  worst concavity  worst concave points  worst symmetry  \\\n",
       "0             0.6656           0.7119                0.2654          0.4601   \n",
       "1             0.1866           0.2416                0.1860          0.2750   \n",
       "2             0.4245           0.4504                0.2430          0.3613   \n",
       "3             0.8663           0.6869                0.2575          0.6638   \n",
       "4             0.2050           0.4000                0.1625          0.2364   \n",
       "\n",
       "   worst fractal dimension  \n",
       "0                  0.11890  \n",
       "1                  0.08902  \n",
       "2                  0.08758  \n",
       "3                  0.17300  \n",
       "4                  0.07678  \n",
       "\n",
       "[5 rows x 30 columns]"
      ]
     },
     "execution_count": 4,
     "metadata": {},
     "output_type": "execute_result"
    }
   ],
   "source": [
    "df=pd.DataFrame(data = cancer.data, columns=cancer.feature_names)\n",
    "df.head()"
   ]
  },
  {
   "cell_type": "code",
   "execution_count": 5,
   "metadata": {},
   "outputs": [
    {
     "data": {
      "text/plain": [
       "array(['malignant', 'benign'],\n",
       "      dtype='<U9')"
      ]
     },
     "execution_count": 5,
     "metadata": {},
     "output_type": "execute_result"
    }
   ],
   "source": [
    "cancer.target_names"
   ]
  },
  {
   "cell_type": "markdown",
   "metadata": {},
   "source": [
    "## Building the Model\n"
   ]
  },
  {
   "cell_type": "markdown",
   "metadata": {},
   "source": [
    "### Creating features and Labels"
   ]
  },
  {
   "cell_type": "code",
   "execution_count": 6,
   "metadata": {
    "collapsed": true
   },
   "outputs": [],
   "source": [
    "X = df\n",
    "y = cancer.target"
   ]
  },
  {
   "cell_type": "markdown",
   "metadata": {},
   "source": [
    "### Splitting the dataset"
   ]
  },
  {
   "cell_type": "code",
   "execution_count": 7,
   "metadata": {
    "collapsed": true
   },
   "outputs": [],
   "source": [
    "from sklearn.model_selection import train_test_split"
   ]
  },
  {
   "cell_type": "code",
   "execution_count": 8,
   "metadata": {
    "collapsed": true
   },
   "outputs": [],
   "source": [
    "X_train, X_test, y_train, y_test = train_test_split(\n",
    "    X, y, test_size=0.3, random_state=50)"
   ]
  },
  {
   "cell_type": "markdown",
   "metadata": {},
   "source": [
    "### Importing the Model"
   ]
  },
  {
   "cell_type": "code",
   "execution_count": 9,
   "metadata": {
    "collapsed": true
   },
   "outputs": [],
   "source": [
    "from sklearn.svm import SVC"
   ]
  },
  {
   "cell_type": "markdown",
   "metadata": {},
   "source": [
    "### Create and fit a Classifier"
   ]
  },
  {
   "cell_type": "code",
   "execution_count": 10,
   "metadata": {},
   "outputs": [
    {
     "data": {
      "text/plain": [
       "SVC(C=1.0, cache_size=200, class_weight=None, coef0=0.0,\n",
       "  decision_function_shape='ovr', degree=3, gamma='auto', kernel='rbf',\n",
       "  max_iter=-1, probability=False, random_state=None, shrinking=True,\n",
       "  tol=0.001, verbose=False)"
      ]
     },
     "execution_count": 10,
     "metadata": {},
     "output_type": "execute_result"
    }
   ],
   "source": [
    "svm = SVC()\n",
    "svm.fit(X_train, y_train)"
   ]
  },
  {
   "cell_type": "markdown",
   "metadata": {},
   "source": [
    "## Predictions"
   ]
  },
  {
   "cell_type": "code",
   "execution_count": 11,
   "metadata": {},
   "outputs": [],
   "source": [
    "pred = svm.predict(X_test)"
   ]
  },
  {
   "cell_type": "markdown",
   "metadata": {},
   "source": [
    "## Evaluation"
   ]
  },
  {
   "cell_type": "code",
   "execution_count": 12,
   "metadata": {
    "collapsed": true
   },
   "outputs": [],
   "source": [
    "from sklearn.metrics import classification_report,confusion_matrix"
   ]
  },
  {
   "cell_type": "code",
   "execution_count": 13,
   "metadata": {},
   "outputs": [
    {
     "name": "stdout",
     "output_type": "stream",
     "text": [
      "[[  0  59]\n",
      " [  0 112]]\n"
     ]
    }
   ],
   "source": [
    "print(confusion_matrix(y_test,pred))"
   ]
  },
  {
   "cell_type": "code",
   "execution_count": 14,
   "metadata": {},
   "outputs": [
    {
     "name": "stdout",
     "output_type": "stream",
     "text": [
      "             precision    recall  f1-score   support\n",
      "\n",
      "          0       0.00      0.00      0.00        59\n",
      "          1       0.65      1.00      0.79       112\n",
      "\n",
      "avg / total       0.43      0.65      0.52       171\n",
      "\n"
     ]
    },
    {
     "name": "stderr",
     "output_type": "stream",
     "text": [
      "c:\\python\\ds\\_data\\lib\\site-packages\\sklearn\\metrics\\classification.py:1135: UndefinedMetricWarning: Precision and F-score are ill-defined and being set to 0.0 in labels with no predicted samples.\n",
      "  'precision', 'predicted', average, warn_for)\n"
     ]
    }
   ],
   "source": [
    "print(classification_report(y_test,pred))"
   ]
  },
  {
   "cell_type": "markdown",
   "metadata": {},
   "source": [
    "This model performed really really badly."
   ]
  },
  {
   "cell_type": "markdown",
   "metadata": {},
   "source": [
    "## Tuning using GridSearch"
   ]
  },
  {
   "cell_type": "code",
   "execution_count": 25,
   "metadata": {},
   "outputs": [],
   "source": [
    "from sklearn.model_selection import GridSearchCV"
   ]
  },
  {
   "cell_type": "code",
   "execution_count": 26,
   "metadata": {
    "collapsed": true
   },
   "outputs": [],
   "source": [
    "param_grid = {'C':[0.1,1,10,100,1000],'gamma':[1,0.1,0.01,0.001,0.0001]}"
   ]
  },
  {
   "cell_type": "code",
   "execution_count": 27,
   "metadata": {
    "collapsed": true
   },
   "outputs": [],
   "source": [
    "grid=GridSearchCV(SVC(), param_grid,verbose=3)"
   ]
  },
  {
   "cell_type": "code",
   "execution_count": 28,
   "metadata": {},
   "outputs": [
    {
     "name": "stdout",
     "output_type": "stream",
     "text": [
      "Fitting 3 folds for each of 25 candidates, totalling 75 fits\n",
      "[CV] gamma=1, C=0.1 ..................................................\n",
      "[CV] ......... gamma=1, C=0.1, score=0.6165413533834586, total=   0.0s\n",
      "[CV] gamma=1, C=0.1 ..................................................\n",
      "[CV] ......... gamma=1, C=0.1, score=0.6165413533834586, total=   0.0s\n",
      "[CV] gamma=1, C=0.1 ..................................................\n",
      "[CV] ......... gamma=1, C=0.1, score=0.6136363636363636, total=   0.0s\n",
      "[CV] gamma=0.1, C=0.1 ................................................\n",
      "[CV] ....... gamma=0.1, C=0.1, score=0.6165413533834586, total=   0.0s\n",
      "[CV] gamma=0.1, C=0.1 ................................................\n",
      "[CV] ....... gamma=0.1, C=0.1, score=0.6165413533834586, total=   0.0s\n",
      "[CV] gamma=0.1, C=0.1 ................................................\n",
      "[CV] ....... gamma=0.1, C=0.1, score=0.6136363636363636, total=   0.0s\n",
      "[CV] gamma=0.01, C=0.1 ...............................................\n"
     ]
    },
    {
     "name": "stderr",
     "output_type": "stream",
     "text": [
      "[Parallel(n_jobs=1)]: Done   1 out of   1 | elapsed:    0.0s remaining:    0.0s\n",
      "[Parallel(n_jobs=1)]: Done   2 out of   2 | elapsed:    0.0s remaining:    0.0s\n"
     ]
    },
    {
     "name": "stdout",
     "output_type": "stream",
     "text": [
      "[CV] ...... gamma=0.01, C=0.1, score=0.6165413533834586, total=   0.0s\n",
      "[CV] gamma=0.01, C=0.1 ...............................................\n",
      "[CV] ...... gamma=0.01, C=0.1, score=0.6165413533834586, total=   0.0s\n",
      "[CV] gamma=0.01, C=0.1 ...............................................\n",
      "[CV] ...... gamma=0.01, C=0.1, score=0.6136363636363636, total=   0.0s\n",
      "[CV] gamma=0.001, C=0.1 ..............................................\n",
      "[CV] ..... gamma=0.001, C=0.1, score=0.6165413533834586, total=   0.0s\n",
      "[CV] gamma=0.001, C=0.1 ..............................................\n",
      "[CV] ..... gamma=0.001, C=0.1, score=0.6165413533834586, total=   0.0s\n",
      "[CV] gamma=0.001, C=0.1 ..............................................\n",
      "[CV] ..... gamma=0.001, C=0.1, score=0.6136363636363636, total=   0.0s\n",
      "[CV] gamma=0.0001, C=0.1 .............................................\n",
      "[CV] .... gamma=0.0001, C=0.1, score=0.9022556390977443, total=   0.0s\n",
      "[CV] gamma=0.0001, C=0.1 .............................................\n",
      "[CV] ..... gamma=0.0001, C=0.1, score=0.924812030075188, total=   0.0s\n",
      "[CV] gamma=0.0001, C=0.1 .............................................\n",
      "[CV] .... gamma=0.0001, C=0.1, score=0.9166666666666666, total=   0.0s\n",
      "[CV] gamma=1, C=1 ....................................................\n",
      "[CV] ........... gamma=1, C=1, score=0.6165413533834586, total=   0.0s\n",
      "[CV] gamma=1, C=1 ....................................................\n",
      "[CV] ........... gamma=1, C=1, score=0.6165413533834586, total=   0.0s\n",
      "[CV] gamma=1, C=1 ....................................................\n",
      "[CV] ........... gamma=1, C=1, score=0.6136363636363636, total=   0.0s\n",
      "[CV] gamma=0.1, C=1 ..................................................\n",
      "[CV] ......... gamma=0.1, C=1, score=0.6165413533834586, total=   0.0s\n",
      "[CV] gamma=0.1, C=1 ..................................................\n",
      "[CV] ......... gamma=0.1, C=1, score=0.6165413533834586, total=   0.0s\n",
      "[CV] gamma=0.1, C=1 ..................................................\n",
      "[CV] ......... gamma=0.1, C=1, score=0.6136363636363636, total=   0.0s\n",
      "[CV] gamma=0.01, C=1 .................................................\n",
      "[CV] ........ gamma=0.01, C=1, score=0.6240601503759399, total=   0.0s\n",
      "[CV] gamma=0.01, C=1 .................................................\n",
      "[CV] ........ gamma=0.01, C=1, score=0.6165413533834586, total=   0.0s\n",
      "[CV] gamma=0.01, C=1 .................................................\n",
      "[CV] ........ gamma=0.01, C=1, score=0.6136363636363636, total=   0.0s\n",
      "[CV] gamma=0.001, C=1 ................................................\n",
      "[CV] ....... gamma=0.001, C=1, score=0.9022556390977443, total=   0.0s\n",
      "[CV] gamma=0.001, C=1 ................................................\n",
      "[CV] ....... gamma=0.001, C=1, score=0.9548872180451128, total=   0.0s\n",
      "[CV] gamma=0.001, C=1 ................................................\n",
      "[CV] ....... gamma=0.001, C=1, score=0.9166666666666666, total=   0.0s\n",
      "[CV] gamma=0.0001, C=1 ...............................................\n",
      "[CV] ...... gamma=0.0001, C=1, score=0.9323308270676691, total=   0.0s\n",
      "[CV] gamma=0.0001, C=1 ...............................................\n",
      "[CV] ...... gamma=0.0001, C=1, score=0.9398496240601504, total=   0.0s\n",
      "[CV] gamma=0.0001, C=1 ...............................................\n",
      "[CV] ...... gamma=0.0001, C=1, score=0.9393939393939394, total=   0.0s\n",
      "[CV] gamma=1, C=10 ...................................................\n",
      "[CV] .......... gamma=1, C=10, score=0.6165413533834586, total=   0.0s\n",
      "[CV] gamma=1, C=10 ...................................................\n",
      "[CV] .......... gamma=1, C=10, score=0.6165413533834586, total=   0.0s\n",
      "[CV] gamma=1, C=10 ...................................................\n",
      "[CV] .......... gamma=1, C=10, score=0.6136363636363636, total=   0.0s\n",
      "[CV] gamma=0.1, C=10 .................................................\n",
      "[CV] ........ gamma=0.1, C=10, score=0.6165413533834586, total=   0.0s\n",
      "[CV] gamma=0.1, C=10 .................................................\n",
      "[CV] ........ gamma=0.1, C=10, score=0.6165413533834586, total=   0.0s\n",
      "[CV] gamma=0.1, C=10 .................................................\n",
      "[CV] ........ gamma=0.1, C=10, score=0.6136363636363636, total=   0.0s\n",
      "[CV] gamma=0.01, C=10 ................................................\n",
      "[CV] ....... gamma=0.01, C=10, score=0.6240601503759399, total=   0.0s\n",
      "[CV] gamma=0.01, C=10 ................................................\n",
      "[CV] ....... gamma=0.01, C=10, score=0.6165413533834586, total=   0.0s\n",
      "[CV] gamma=0.01, C=10 ................................................\n",
      "[CV] ....... gamma=0.01, C=10, score=0.6136363636363636, total=   0.0s\n",
      "[CV] gamma=0.001, C=10 ...............................................\n",
      "[CV] ...... gamma=0.001, C=10, score=0.8872180451127819, total=   0.0s\n",
      "[CV] gamma=0.001, C=10 ...............................................\n",
      "[CV] ...... gamma=0.001, C=10, score=0.9398496240601504, total=   0.0s\n",
      "[CV] gamma=0.001, C=10 ...............................................\n",
      "[CV] ...... gamma=0.001, C=10, score=0.9090909090909091, total=   0.0s\n",
      "[CV] gamma=0.0001, C=10 ..............................................\n",
      "[CV] ..... gamma=0.0001, C=10, score=0.9323308270676691, total=   0.0s\n",
      "[CV] gamma=0.0001, C=10 ..............................................\n",
      "[CV] ..... gamma=0.0001, C=10, score=0.9548872180451128, total=   0.0s\n",
      "[CV] gamma=0.0001, C=10 ..............................................\n",
      "[CV] ..... gamma=0.0001, C=10, score=0.9393939393939394, total=   0.0s\n",
      "[CV] gamma=1, C=100 ..................................................\n",
      "[CV] ......... gamma=1, C=100, score=0.6165413533834586, total=   0.0s\n",
      "[CV] gamma=1, C=100 ..................................................\n",
      "[CV] ......... gamma=1, C=100, score=0.6165413533834586, total=   0.0s\n",
      "[CV] gamma=1, C=100 ..................................................\n",
      "[CV] ......... gamma=1, C=100, score=0.6136363636363636, total=   0.0s\n",
      "[CV] gamma=0.1, C=100 ................................................\n",
      "[CV] ....... gamma=0.1, C=100, score=0.6165413533834586, total=   0.0s\n",
      "[CV] gamma=0.1, C=100 ................................................\n",
      "[CV] ....... gamma=0.1, C=100, score=0.6165413533834586, total=   0.0s\n",
      "[CV] gamma=0.1, C=100 ................................................\n",
      "[CV] ....... gamma=0.1, C=100, score=0.6136363636363636, total=   0.0s\n",
      "[CV] gamma=0.01, C=100 ...............................................\n",
      "[CV] ...... gamma=0.01, C=100, score=0.6240601503759399, total=   0.0s\n",
      "[CV] gamma=0.01, C=100 ...............................................\n",
      "[CV] ...... gamma=0.01, C=100, score=0.6165413533834586, total=   0.0s\n",
      "[CV] gamma=0.01, C=100 ...............................................\n",
      "[CV] ...... gamma=0.01, C=100, score=0.6136363636363636, total=   0.0s\n",
      "[CV] gamma=0.001, C=100 ..............................................\n",
      "[CV] ..... gamma=0.001, C=100, score=0.8872180451127819, total=   0.0s\n",
      "[CV] gamma=0.001, C=100 ..............................................\n",
      "[CV] ..... gamma=0.001, C=100, score=0.9398496240601504, total=   0.0s\n",
      "[CV] gamma=0.001, C=100 ..............................................\n",
      "[CV] ..... gamma=0.001, C=100, score=0.9090909090909091, total=   0.0s\n",
      "[CV] gamma=0.0001, C=100 .............................................\n",
      "[CV] .... gamma=0.0001, C=100, score=0.9097744360902256, total=   0.0s\n",
      "[CV] gamma=0.0001, C=100 .............................................\n",
      "[CV] .... gamma=0.0001, C=100, score=0.9398496240601504, total=   0.0s\n",
      "[CV] gamma=0.0001, C=100 .............................................\n",
      "[CV] .... gamma=0.0001, C=100, score=0.9242424242424242, total=   0.0s\n",
      "[CV] gamma=1, C=1000 .................................................\n",
      "[CV] ........ gamma=1, C=1000, score=0.6165413533834586, total=   0.0s\n",
      "[CV] gamma=1, C=1000 .................................................\n",
      "[CV] ........ gamma=1, C=1000, score=0.6165413533834586, total=   0.0s\n",
      "[CV] gamma=1, C=1000 .................................................\n",
      "[CV] ........ gamma=1, C=1000, score=0.6136363636363636, total=   0.0s\n",
      "[CV] gamma=0.1, C=1000 ...............................................\n",
      "[CV] ...... gamma=0.1, C=1000, score=0.6165413533834586, total=   0.0s\n",
      "[CV] gamma=0.1, C=1000 ...............................................\n",
      "[CV] ...... gamma=0.1, C=1000, score=0.6165413533834586, total=   0.0s\n",
      "[CV] gamma=0.1, C=1000 ...............................................\n",
      "[CV] ...... gamma=0.1, C=1000, score=0.6136363636363636, total=   0.0s\n",
      "[CV] gamma=0.01, C=1000 ..............................................\n",
      "[CV] ..... gamma=0.01, C=1000, score=0.6240601503759399, total=   0.0s\n",
      "[CV] gamma=0.01, C=1000 ..............................................\n",
      "[CV] ..... gamma=0.01, C=1000, score=0.6165413533834586, total=   0.0s\n",
      "[CV] gamma=0.01, C=1000 ..............................................\n",
      "[CV] ..... gamma=0.01, C=1000, score=0.6136363636363636, total=   0.0s\n",
      "[CV] gamma=0.001, C=1000 .............................................\n",
      "[CV] .... gamma=0.001, C=1000, score=0.8872180451127819, total=   0.0s\n",
      "[CV] gamma=0.001, C=1000 .............................................\n"
     ]
    },
    {
     "name": "stdout",
     "output_type": "stream",
     "text": [
      "[CV] .... gamma=0.001, C=1000, score=0.9398496240601504, total=   0.0s\n",
      "[CV] gamma=0.001, C=1000 .............................................\n",
      "[CV] .... gamma=0.001, C=1000, score=0.9090909090909091, total=   0.0s\n",
      "[CV] gamma=0.0001, C=1000 ............................................\n",
      "[CV] .... gamma=0.0001, C=1000, score=0.924812030075188, total=   0.0s\n",
      "[CV] gamma=0.0001, C=1000 ............................................\n",
      "[CV] ... gamma=0.0001, C=1000, score=0.9323308270676691, total=   0.0s\n",
      "[CV] gamma=0.0001, C=1000 ............................................\n",
      "[CV] ... gamma=0.0001, C=1000, score=0.9242424242424242, total=   0.0s\n"
     ]
    },
    {
     "name": "stderr",
     "output_type": "stream",
     "text": [
      "[Parallel(n_jobs=1)]: Done  75 out of  75 | elapsed:    2.0s finished\n"
     ]
    },
    {
     "data": {
      "text/plain": [
       "GridSearchCV(cv=None, error_score='raise',\n",
       "       estimator=SVC(C=1.0, cache_size=200, class_weight=None, coef0=0.0,\n",
       "  decision_function_shape='ovr', degree=3, gamma='auto', kernel='rbf',\n",
       "  max_iter=-1, probability=False, random_state=None, shrinking=True,\n",
       "  tol=0.001, verbose=False),\n",
       "       fit_params=None, iid=True, n_jobs=1,\n",
       "       param_grid={'gamma': [1, 0.1, 0.01, 0.001, 0.0001], 'C': [0.1, 1, 10, 100, 1000]},\n",
       "       pre_dispatch='2*n_jobs', refit=True, return_train_score=True,\n",
       "       scoring=None, verbose=3)"
      ]
     },
     "execution_count": 28,
     "metadata": {},
     "output_type": "execute_result"
    }
   ],
   "source": [
    "grid.fit(X_train,y_train)"
   ]
  },
  {
   "cell_type": "code",
   "execution_count": 29,
   "metadata": {},
   "outputs": [
    {
     "data": {
      "text/plain": [
       "{'C': 10, 'gamma': 0.0001}"
      ]
     },
     "execution_count": 29,
     "metadata": {},
     "output_type": "execute_result"
    }
   ],
   "source": [
    "grid.best_params_"
   ]
  },
  {
   "cell_type": "code",
   "execution_count": 30,
   "metadata": {},
   "outputs": [
    {
     "data": {
      "text/plain": [
       "SVC(C=10, cache_size=200, class_weight=None, coef0=0.0,\n",
       "  decision_function_shape='ovr', degree=3, gamma=0.0001, kernel='rbf',\n",
       "  max_iter=-1, probability=False, random_state=None, shrinking=True,\n",
       "  tol=0.001, verbose=False)"
      ]
     },
     "execution_count": 30,
     "metadata": {},
     "output_type": "execute_result"
    }
   ],
   "source": [
    "grid.best_estimator_"
   ]
  },
  {
   "cell_type": "code",
   "execution_count": 31,
   "metadata": {},
   "outputs": [
    {
     "data": {
      "text/plain": [
       "0.94221105527638194"
      ]
     },
     "execution_count": 31,
     "metadata": {},
     "output_type": "execute_result"
    }
   ],
   "source": [
    "grid.best_score_"
   ]
  },
  {
   "cell_type": "code",
   "execution_count": 32,
   "metadata": {
    "collapsed": true
   },
   "outputs": [],
   "source": [
    "grid_pred= grid.predict(X_test)"
   ]
  },
  {
   "cell_type": "code",
   "execution_count": 33,
   "metadata": {},
   "outputs": [
    {
     "name": "stdout",
     "output_type": "stream",
     "text": [
      "[[ 52   7]\n",
      " [  3 109]]\n"
     ]
    }
   ],
   "source": [
    "print(confusion_matrix(y_test,grid_pred))"
   ]
  },
  {
   "cell_type": "code",
   "execution_count": 34,
   "metadata": {},
   "outputs": [
    {
     "name": "stdout",
     "output_type": "stream",
     "text": [
      "             precision    recall  f1-score   support\n",
      "\n",
      "          0       0.95      0.88      0.91        59\n",
      "          1       0.94      0.97      0.96       112\n",
      "\n",
      "avg / total       0.94      0.94      0.94       171\n",
      "\n"
     ]
    }
   ],
   "source": [
    "print(classification_report(y_test,grid_pred))"
   ]
  }
 ],
 "metadata": {
  "kernelspec": {
   "display_name": "Python 3",
   "language": "python",
   "name": "python3"
  },
  "language_info": {
   "codemirror_mode": {
    "name": "ipython",
    "version": 3
   },
   "file_extension": ".py",
   "mimetype": "text/x-python",
   "name": "python",
   "nbconvert_exporter": "python",
   "pygments_lexer": "ipython3",
   "version": "3.5.2"
  }
 },
 "nbformat": 4,
 "nbformat_minor": 2
}
