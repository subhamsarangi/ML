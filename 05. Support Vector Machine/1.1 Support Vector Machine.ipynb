{
 "cells": [
  {
   "cell_type": "markdown",
   "metadata": {},
   "source": [
    "# Support Vector Machine (SVM)\n",
    "***Objective***: To maximize the **Margin** which is the distance between the separating **hyperplane** (i.e. decision boundary) and the **Support Vectors** (i.e. the training samples that are closest to this hyperplane).\n",
    "\n",
    "- ***Q***: Why do we need _decision boundaries with large margins_?\n",
    "- ***A***: They tend to have a _lower generalization error_ (whereas models with small margins are more prone to overfitting.)\n",
    "\n",
    "![Support Vectors](images/sv.png)\n",
    "\n",
    "The _positive_ and _negative_ hyperplanes that are parallel to the decision boundary, can be expressed as follows:\n",
    "$$w_0 + w^Tx_{pos} = 1$$\n",
    "$$w_0 + w^Tx_{neg} = -1$$\n",
    "\n",
    ">By subtracting those two linear equations from each other, we get:\n",
    "$$\\Rightarrow w^T(x_{pos}-x_{neg}) =2$$\n",
    "\n",
    ">We can **normalize** this by the length of the vector $w$, which is defned as follows:\n",
    "$$\\|w\\| =\\sqrt{\\sum_{j=1}^{m} w_j^2}$$\n",
    "\n",
    "So we arrive at the following equation:\n",
    "### $$\\frac{w^T(x_{pos}-x_{neg})}{\\|w\\|}=\\frac{2}{\\|w\\|}$$\n",
    "The left side of the equation can be interpreted as the _distance between the positive and negative hyperplane_ (i.e the **margin** that we want to maximize).\n",
    "\n",
    "Now,\n",
    "\n",
    "***Objective function of the SVM***:  The maximization of this margin by maximizing $\\color{purple}{\\frac{2}{\\|w\\|}}$ under the constraint that the samples are classifed correctly, which can be written as follows:\n",
    "$$w_0+w^Tx^{(i)}\\geq1 \\;if\\:y^{(i)} = 1$$\n",
    "$$w_0+w^Tx^{(i)}<-1 \\;if\\:y^{(i)} = -1$$\n",
    "\n",
    "This can also be written more compactly as follows:\n",
    "### $$y^{(i)}(w_0+w^Tx^{(i)})\\geq 1\\forall_i$$\n",
    "\n",
    "In practice, though, it is easier to minimize the reciprocal term $\\color{purple}{\\frac{1}{2}\\|w\\|^2}$\n",
    "\n",
    "***Dealing with nonlinearly separable data using slack variables***: Slack variable, $\\xi$ was introduced because linear constraints need to be relaxed for nonlinearly separable data to allow \"_convergence of the optimization in the presence of misclassifcations under the appropriate cost penalization_.\" \n",
    "The positive-values slack variable is simply added to the linear constraints:\n",
    "$$w^Tx^{(i)}\\geq \\;if\\:y^{(i)} = 1 - \\xi^{(i)}$$\n",
    "$$w^Tx^{(i)}< -1 \\;if\\:y^{(i)} = 1 + \\xi^{(i)}$$\n",
    "\n",
    "So\n",
    "\n",
    "**The new objective to be minimized:** \n",
    "### $$\\frac{1}{2}\\|w\\|^2 + C(\\sum_{i}\\xi^{(i)})$$\n",
    "Using the variable $C$, we can then control the penalty for misclassifcation. Large values of $C$ correspond to large error penalties, whereas, we are less strict about misclassifcation errors if we choose smaller values for $C$. We can then we use the parameter $C$ to control the width of the margin and therefore tune the bias-variance trade-off. This is _regularization_:  Increasing the value of $C$ increases the bias and lowers the variance of the model.\n",
    "![Bias-Variance Trade-off](images/bvto.png)"
   ]
  },
  {
   "cell_type": "code",
   "execution_count": 102,
   "metadata": {
    "collapsed": true
   },
   "outputs": [],
   "source": [
    "import pandas as pd\n",
    "import numpy as np\n",
    "import seaborn as sns\n",
    "import matplotlib.pyplot as plt\n",
    "%matplotlib inline"
   ]
  },
  {
   "cell_type": "code",
   "execution_count": 103,
   "metadata": {
    "collapsed": true
   },
   "outputs": [],
   "source": [
    "from sklearn import datasets\n",
    "iris = datasets.load_iris()"
   ]
  },
  {
   "cell_type": "markdown",
   "metadata": {},
   "source": [
    "## Building the Model"
   ]
  },
  {
   "cell_type": "markdown",
   "metadata": {},
   "source": [
    "### Creating features and Labels"
   ]
  },
  {
   "cell_type": "code",
   "execution_count": 104,
   "metadata": {
    "collapsed": true
   },
   "outputs": [],
   "source": [
    "X = iris.data[:, [2, 3]]\n",
    "y = iris.target"
   ]
  },
  {
   "cell_type": "markdown",
   "metadata": {},
   "source": [
    "#### Our features plotted"
   ]
  },
  {
   "cell_type": "code",
   "execution_count": 105,
   "metadata": {},
   "outputs": [
    {
     "data": {
      "image/png": "[encoded data removed]",
      "text/plain": [
       "<matplotlib.figure.Figure at 0x1b83910>"
      ]
     },
     "metadata": {},
     "output_type": "display_data"
    }
   ],
   "source": [
    "plt.scatter(X[:50, 0], X[:50, 1], color='red', marker='o', label='setosa')\n",
    "plt.scatter(X[50:100, 0], X[50:100, 1], color='blue', marker='x', label='versicolor')\n",
    "plt.scatter(X[100:150, 0], X[100:150, 1], color='green', marker='^', label='virginica')\n",
    "plt.xlabel('petal length')\n",
    "plt.ylabel('sepal length')\n",
    "plt.legend(loc='upper left')\n",
    "plt.savefig('images/petal_sepal_scatter.png', dpi=200)"
   ]
  },
  {
   "cell_type": "markdown",
   "metadata": {},
   "source": [
    "### Splitting the dataset"
   ]
  },
  {
   "cell_type": "code",
   "execution_count": 106,
   "metadata": {
    "collapsed": true
   },
   "outputs": [],
   "source": [
    "from sklearn.model_selection import train_test_split"
   ]
  },
  {
   "cell_type": "code",
   "execution_count": 107,
   "metadata": {
    "collapsed": true
   },
   "outputs": [],
   "source": [
    "X_train, X_test, y_train, y_test = train_test_split(\n",
    "    X, y, test_size=0.3)"
   ]
  },
  {
   "cell_type": "markdown",
   "metadata": {},
   "source": [
    "### Preprocessing"
   ]
  },
  {
   "cell_type": "code",
   "execution_count": 108,
   "metadata": {},
   "outputs": [
    {
     "data": {
      "text/plain": [
       "StandardScaler(copy=True, with_mean=True, with_std=True)"
      ]
     },
     "execution_count": 108,
     "metadata": {},
     "output_type": "execute_result"
    }
   ],
   "source": [
    "from sklearn.preprocessing import StandardScaler\n",
    "sc = StandardScaler()\n",
    "sc.fit(X_train)"
   ]
  },
  {
   "cell_type": "markdown",
   "metadata": {},
   "source": [
    "### Importing the Model"
   ]
  },
  {
   "cell_type": "code",
   "execution_count": 109,
   "metadata": {
    "collapsed": true
   },
   "outputs": [],
   "source": [
    "from sklearn.svm import SVC"
   ]
  },
  {
   "cell_type": "markdown",
   "metadata": {},
   "source": [
    "### Create and fit a    Classifier"
   ]
  },
  {
   "cell_type": "code",
   "execution_count": 110,
   "metadata": {},
   "outputs": [
    {
     "data": {
      "text/plain": [
       "SVC(C=1, cache_size=200, class_weight=None, coef0=0.0,\n",
       "  decision_function_shape='ovr', degree=3, gamma='auto', kernel='linear',\n",
       "  max_iter=-1, probability=False, random_state=None, shrinking=True,\n",
       "  tol=0.001, verbose=False)"
      ]
     },
     "execution_count": 110,
     "metadata": {},
     "output_type": "execute_result"
    }
   ],
   "source": [
    "svm = SVC(kernel='linear', C=1)\n",
    "svm.fit(X_train, y_train)"
   ]
  },
  {
   "cell_type": "markdown",
   "metadata": {},
   "source": [
    "## Prediction"
   ]
  },
  {
   "cell_type": "code",
   "execution_count": 111,
   "metadata": {},
   "outputs": [
    {
     "name": "stdout",
     "output_type": "stream",
     "text": [
      "[1 1 2 2 0 1 1 0 0 1 1 0 0 2 2 0 0 2 2 0 0 1 0 2 1 2 0 1 1 0 1 1 0 1 0 1 0\n",
      " 2 0 0 0 0 1 1 0]\n"
     ]
    }
   ],
   "source": [
    "pred = svm.predict(X_test)\n",
    "print(pred)"
   ]
  },
  {
   "cell_type": "code",
   "execution_count": 112,
   "metadata": {},
   "outputs": [
    {
     "data": {
      "image/png": "[encoded data removed]",
      "text/plain": [
       "<matplotlib.figure.Figure at 0xb306270>"
      ]
     },
     "metadata": {},
     "output_type": "display_data"
    }
   ],
   "source": [
    "from matplotlib.colors import ListedColormap\n",
    "def plot_decision_regions(X, y, classifier, resolution=0.02,test_idx=None):\n",
    "    \n",
    "    # setup marker generator and color map\n",
    "    markers = ('s', 'x', 'o', '^', 'v')\n",
    "    colors = ('red', 'blue', 'lightgreen', 'gray', 'cyan')\n",
    "    cmap = ListedColormap(colors[:len(np.unique(y))])\n",
    "    \n",
    "    # plot the decision surface\n",
    "    x1_min, x1_max = X[:, 0].min() - 1, X[:, 0].max() + 1\n",
    "    x2_min, x2_max = X[:, 1].min() - 1, X[:, 1].max() + 1\n",
    "    xx1, xx2 = np.meshgrid(np.arange(x1_min, x1_max, resolution), np.arange(x2_min, x2_max, resolution))\n",
    "    Z = classifier.predict(np.array([xx1.ravel(), xx2.ravel()]).T)\n",
    "    Z = Z.reshape(xx1.shape)\n",
    "    plt.contourf(xx1, xx2, Z, alpha=0.4, cmap=cmap)\n",
    "    plt.xlim(xx1.min(), xx1.max())\n",
    "    plt.ylim(xx2.min(), xx2.max())\n",
    "   \n",
    "    # plot all samples\n",
    "    X_test, y_test = X[test_idx, :], y[test_idx]\n",
    "    for idx, cl in enumerate(np.unique(y)):\n",
    "        plt.scatter(x=X[y == cl, 0], y=X[y == cl, 1], alpha=0.8, c=cmap(idx), marker=markers[idx], label=cl)\n",
    "    \n",
    "    # highlight test samples\n",
    "    if test_idx:\n",
    "        X_test, y_test = X[test_idx, :], y[test_idx]\n",
    "        plt.scatter(X_test[:, 0], X_test[:, 1], c='', alpha=1.0, linewidth=1, marker='o', s=55, label='test set')\n",
    "        \n",
    "X_combined = np.vstack((X_train, X_test))\n",
    "y_combined = np.hstack((y_train, y_test))\n",
    "\n",
    "plot_decision_regions(X_combined, y_combined, classifier=svm, test_idx=range(105,150))\n",
    "plt.xlabel('sepal length [cm]')\n",
    "plt.ylabel('petal length [cm]')\n",
    "plt.legend(loc='upper left')\n",
    "plt.title('Plot of the decision regions')\n",
    "plt.savefig('images/decision_boundaries.png', dpi=200)"
   ]
  },
  {
   "cell_type": "markdown",
   "metadata": {},
   "source": [
    "## Evaluation"
   ]
  },
  {
   "cell_type": "code",
   "execution_count": 113,
   "metadata": {
    "collapsed": true
   },
   "outputs": [],
   "source": [
    "from sklearn.metrics import classification_report, confusion_matrix"
   ]
  },
  {
   "cell_type": "code",
   "execution_count": 114,
   "metadata": {},
   "outputs": [
    {
     "name": "stdout",
     "output_type": "stream",
     "text": [
      "[[20  0  0]\n",
      " [ 0 15  1]\n",
      " [ 0  1  8]]\n"
     ]
    }
   ],
   "source": [
    "print(confusion_matrix(y_test,pred))"
   ]
  },
  {
   "cell_type": "code",
   "execution_count": 115,
   "metadata": {},
   "outputs": [
    {
     "data": {
      "text/plain": [
       "0.9555555555555556"
      ]
     },
     "execution_count": 115,
     "metadata": {},
     "output_type": "execute_result"
    }
   ],
   "source": [
    "accuracy = svm.score(X_test, y_test)\n",
    "accuracy"
   ]
  }
 ],
 "metadata": {
  "kernelspec": {
   "display_name": "Python 3",
   "language": "python",
   "name": "python3"
  },
  "language_info": {
   "codemirror_mode": {
    "name": "ipython",
    "version": 3
   },
   "file_extension": ".py",
   "mimetype": "text/x-python",
   "name": "python",
   "nbconvert_exporter": "python",
   "pygments_lexer": "ipython3",
   "version": "3.5.2"
  }
 },
 "nbformat": 4,
 "nbformat_minor": 2
}
